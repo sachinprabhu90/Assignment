{
 "cells": [
  {
   "cell_type": "code",
   "execution_count": 126,
   "metadata": {},
   "outputs": [],
   "source": [
    "import pandas as pd\n",
    "import numpy as np\n",
    "import matplotlib.pyplot as plt\n",
    "%matplotlib inline"
   ]
  },
  {
   "cell_type": "code",
   "execution_count": 127,
   "metadata": {},
   "outputs": [],
   "source": [
    "# Reading files into individual dfs\n",
    "\n",
    "file = pd.ExcelFile('C:\\\\Users\\\\sachin\\\\Desktop\\\\DataQuest\\\\My Projects\\\\Siddesh Assignment\\\\Analytical Interview DATASET.xlsx')\n",
    "profile = pd.read_excel(file,'Customer Profile Data (DS#1)')\n",
    "past_purchase = pd.read_excel(file,'Past Purchase Data (Ds#2)')\n",
    "camp_coverage = pd.read_excel(file,'Campaign Coverage Data (DS#3)')\n",
    "monthly_data = pd.read_excel(file,'Month Level Customer Data (DS#4')\n",
    "socio_economic = pd.read_excel(file,'Socio Economic Data (DS#5)')\n"
   ]
  },
  {
   "cell_type": "code",
   "execution_count": 128,
   "metadata": {},
   "outputs": [],
   "source": [
    "yearly_data = monthly_data.groupby(by = 'Customer_ID').sum()\n",
    "#Turning monthly to yearly data to match other dfs"
   ]
  },
  {
   "cell_type": "code",
   "execution_count": 129,
   "metadata": {},
   "outputs": [],
   "source": [
    "yearly_data['Net_Margin'] = yearly_data['Net_Profit']/ yearly_data['Revenue']*100\n",
    "\n",
    "#Recalculated Net_Margin"
   ]
  },
  {
   "cell_type": "code",
   "execution_count": 130,
   "metadata": {},
   "outputs": [],
   "source": [
    "master = (profile.join(past_purchase,on = 'Customer_ID', how='left',lsuffix='_left')\n",
    "                 .join(camp_coverage,on='Customer_ID',how='left',lsuffix='_left')\n",
    "                 .join(monthly_data,on='Customer_ID',how='left',lsuffix='_left')\n",
    "                 .join(socio_economic,on='Customer_ID',how='left',lsuffix='_left'))\n",
    "                \n"
   ]
  },
  {
   "cell_type": "code",
   "execution_count": 131,
   "metadata": {},
   "outputs": [],
   "source": [
    "master = master.drop({'Customer_ID','Customer_ID_left'}, axis=1)\n"
   ]
  },
  {
   "cell_type": "code",
   "execution_count": 132,
   "metadata": {
    "scrolled": true
   },
   "outputs": [
    {
     "data": {
      "text/html": [
       "<div>\n",
       "<style scoped>\n",
       "    .dataframe tbody tr th:only-of-type {\n",
       "        vertical-align: middle;\n",
       "    }\n",
       "\n",
       "    .dataframe tbody tr th {\n",
       "        vertical-align: top;\n",
       "    }\n",
       "\n",
       "    .dataframe thead th {\n",
       "        text-align: right;\n",
       "    }\n",
       "</style>\n",
       "<table border=\"1\" class=\"dataframe\">\n",
       "  <thead>\n",
       "    <tr style=\"text-align: right;\">\n",
       "      <th></th>\n",
       "      <th>age</th>\n",
       "      <th>job</th>\n",
       "      <th>marital_status</th>\n",
       "      <th>education</th>\n",
       "      <th>Previous_Default_Flag</th>\n",
       "      <th>House_Owned_Flag</th>\n",
       "      <th>Loan_Availed_Flag</th>\n",
       "      <th>Income_USD</th>\n",
       "      <th>Credit_rating</th>\n",
       "      <th>Life_Stage_Code</th>\n",
       "      <th>...</th>\n",
       "      <th>Revenue</th>\n",
       "      <th>Cost</th>\n",
       "      <th>Net_Profit</th>\n",
       "      <th>Net_Margin</th>\n",
       "      <th>month_last_contacted</th>\n",
       "      <th>Qtrly_Emp_variation_rate</th>\n",
       "      <th>Monthly_consumer_price_idx</th>\n",
       "      <th>Monthly_consumer_conf_idx</th>\n",
       "      <th>US_FED_3mnth_rate</th>\n",
       "      <th>Quarterly_num_of_emp</th>\n",
       "    </tr>\n",
       "  </thead>\n",
       "  <tbody>\n",
       "    <tr>\n",
       "      <th>0</th>\n",
       "      <td>85</td>\n",
       "      <td>retired</td>\n",
       "      <td>married</td>\n",
       "      <td>basic.4y</td>\n",
       "      <td>no</td>\n",
       "      <td>no</td>\n",
       "      <td>no</td>\n",
       "      <td>10307</td>\n",
       "      <td>Poor</td>\n",
       "      <td>Tradinationalist</td>\n",
       "      <td>...</td>\n",
       "      <td>1563.66</td>\n",
       "      <td>1376.0208</td>\n",
       "      <td>187.6392</td>\n",
       "      <td>0.12</td>\n",
       "      <td>may</td>\n",
       "      <td>1.1</td>\n",
       "      <td>93.994</td>\n",
       "      <td>-36.4</td>\n",
       "      <td>4.864</td>\n",
       "      <td>5191.0</td>\n",
       "    </tr>\n",
       "    <tr>\n",
       "      <th>1</th>\n",
       "      <td>50</td>\n",
       "      <td>blue-collar</td>\n",
       "      <td>married</td>\n",
       "      <td>basic.9y</td>\n",
       "      <td>no</td>\n",
       "      <td>no</td>\n",
       "      <td>no</td>\n",
       "      <td>33232</td>\n",
       "      <td>Fair</td>\n",
       "      <td>Baby Boomers</td>\n",
       "      <td>...</td>\n",
       "      <td>820.49</td>\n",
       "      <td>713.8263</td>\n",
       "      <td>106.6637</td>\n",
       "      <td>0.13</td>\n",
       "      <td>may</td>\n",
       "      <td>1.1</td>\n",
       "      <td>93.994</td>\n",
       "      <td>-36.4</td>\n",
       "      <td>4.864</td>\n",
       "      <td>5191.0</td>\n",
       "    </tr>\n",
       "    <tr>\n",
       "      <th>2</th>\n",
       "      <td>47</td>\n",
       "      <td>blue-collar</td>\n",
       "      <td>single</td>\n",
       "      <td>basic.4y</td>\n",
       "      <td>NaN</td>\n",
       "      <td>no</td>\n",
       "      <td>no</td>\n",
       "      <td>12167</td>\n",
       "      <td>Fair</td>\n",
       "      <td>Baby Boomers</td>\n",
       "      <td>...</td>\n",
       "      <td>372.33</td>\n",
       "      <td>331.3737</td>\n",
       "      <td>40.9563</td>\n",
       "      <td>0.11</td>\n",
       "      <td>may</td>\n",
       "      <td>1.1</td>\n",
       "      <td>93.994</td>\n",
       "      <td>-36.4</td>\n",
       "      <td>4.864</td>\n",
       "      <td>5191.0</td>\n",
       "    </tr>\n",
       "    <tr>\n",
       "      <th>3</th>\n",
       "      <td>26</td>\n",
       "      <td>technician</td>\n",
       "      <td>divorced</td>\n",
       "      <td>professional.course</td>\n",
       "      <td>no</td>\n",
       "      <td>no</td>\n",
       "      <td>yes</td>\n",
       "      <td>26459</td>\n",
       "      <td>Good</td>\n",
       "      <td>Gen Y</td>\n",
       "      <td>...</td>\n",
       "      <td>312.84</td>\n",
       "      <td>275.2992</td>\n",
       "      <td>37.5408</td>\n",
       "      <td>0.12</td>\n",
       "      <td>may</td>\n",
       "      <td>1.1</td>\n",
       "      <td>93.994</td>\n",
       "      <td>-36.4</td>\n",
       "      <td>4.864</td>\n",
       "      <td>5191.0</td>\n",
       "    </tr>\n",
       "    <tr>\n",
       "      <th>4</th>\n",
       "      <td>52</td>\n",
       "      <td>retired</td>\n",
       "      <td>married</td>\n",
       "      <td>university.degree</td>\n",
       "      <td>NaN</td>\n",
       "      <td>no</td>\n",
       "      <td>no</td>\n",
       "      <td>22328</td>\n",
       "      <td>Good</td>\n",
       "      <td>Baby Boomers</td>\n",
       "      <td>...</td>\n",
       "      <td>595.63</td>\n",
       "      <td>518.1981</td>\n",
       "      <td>77.4319</td>\n",
       "      <td>0.13</td>\n",
       "      <td>may</td>\n",
       "      <td>1.1</td>\n",
       "      <td>93.994</td>\n",
       "      <td>-36.4</td>\n",
       "      <td>4.864</td>\n",
       "      <td>5191.0</td>\n",
       "    </tr>\n",
       "  </tbody>\n",
       "</table>\n",
       "<p>5 rows × 41 columns</p>\n",
       "</div>"
      ],
      "text/plain": [
       "   age          job marital_status            education Previous_Default_Flag  \\\n",
       "0   85      retired        married             basic.4y                    no   \n",
       "1   50  blue-collar        married             basic.9y                    no   \n",
       "2   47  blue-collar         single             basic.4y                   NaN   \n",
       "3   26   technician       divorced  professional.course                    no   \n",
       "4   52      retired        married    university.degree                   NaN   \n",
       "\n",
       "  House_Owned_Flag Loan_Availed_Flag  Income_USD Credit_rating  \\\n",
       "0               no                no       10307          Poor   \n",
       "1               no                no       33232          Fair   \n",
       "2               no                no       12167          Fair   \n",
       "3               no               yes       26459          Good   \n",
       "4               no                no       22328          Good   \n",
       "\n",
       "    Life_Stage_Code          ...           Revenue       Cost  Net_Profit  \\\n",
       "0  Tradinationalist          ...           1563.66  1376.0208    187.6392   \n",
       "1      Baby Boomers          ...            820.49   713.8263    106.6637   \n",
       "2      Baby Boomers          ...            372.33   331.3737     40.9563   \n",
       "3             Gen Y          ...            312.84   275.2992     37.5408   \n",
       "4      Baby Boomers          ...            595.63   518.1981     77.4319   \n",
       "\n",
       "  Net_Margin  month_last_contacted  Qtrly_Emp_variation_rate  \\\n",
       "0       0.12                   may                       1.1   \n",
       "1       0.13                   may                       1.1   \n",
       "2       0.11                   may                       1.1   \n",
       "3       0.12                   may                       1.1   \n",
       "4       0.13                   may                       1.1   \n",
       "\n",
       "   Monthly_consumer_price_idx Monthly_consumer_conf_idx US_FED_3mnth_rate  \\\n",
       "0                      93.994                     -36.4             4.864   \n",
       "1                      93.994                     -36.4             4.864   \n",
       "2                      93.994                     -36.4             4.864   \n",
       "3                      93.994                     -36.4             4.864   \n",
       "4                      93.994                     -36.4             4.864   \n",
       "\n",
       "   Quarterly_num_of_emp  \n",
       "0                5191.0  \n",
       "1                5191.0  \n",
       "2                5191.0  \n",
       "3                5191.0  \n",
       "4                5191.0  \n",
       "\n",
       "[5 rows x 41 columns]"
      ]
     },
     "execution_count": 132,
     "metadata": {},
     "output_type": "execute_result"
    }
   ],
   "source": [
    "master.head()"
   ]
  },
  {
   "cell_type": "code",
   "execution_count": 133,
   "metadata": {},
   "outputs": [
    {
     "data": {
      "text/plain": [
       "Bronze      1982\n",
       "Silver      1569\n",
       "Gold        1049\n",
       "Platinum     547\n",
       "Name: Loyalty_Tier, dtype: int64"
      ]
     },
     "execution_count": 133,
     "metadata": {},
     "output_type": "execute_result"
    }
   ],
   "source": [
    "master['Loyalty_Tier'].value_counts()"
   ]
  },
  {
   "cell_type": "code",
   "execution_count": 134,
   "metadata": {},
   "outputs": [],
   "source": [
    "mapping_dict = {'Bronze':1,'Silver':2, 'Gold':3, 'Platinum': 4}\n",
    "\n",
    "master['Loyalty_Tier'] = master['Loyalty_Tier'].map(mapping_dict)"
   ]
  },
  {
   "cell_type": "code",
   "execution_count": 135,
   "metadata": {},
   "outputs": [],
   "source": [
    "mapping_dict = {'yes':1,\n",
    "               'no':2,\n",
    "               np.nan:0,\n",
    "               }\n",
    "\n",
    "master['Previous_Default_Flag'] = master['Previous_Default_Flag'].map(mapping_dict)\n",
    "\n",
    "master['House_Owned_Flag'] = master['House_Owned_Flag'].map(mapping_dict)\n",
    "master['Loan_Availed_Flag'] = master['Loan_Availed_Flag'].map(mapping_dict)\n",
    "master['buy_decision_flag'] = master['buy_decision_flag'].map(mapping_dict)\n"
   ]
  },
  {
   "cell_type": "code",
   "execution_count": 136,
   "metadata": {},
   "outputs": [
    {
     "data": {
      "text/html": [
       "<div>\n",
       "<style scoped>\n",
       "    .dataframe tbody tr th:only-of-type {\n",
       "        vertical-align: middle;\n",
       "    }\n",
       "\n",
       "    .dataframe tbody tr th {\n",
       "        vertical-align: top;\n",
       "    }\n",
       "\n",
       "    .dataframe thead th {\n",
       "        text-align: right;\n",
       "    }\n",
       "</style>\n",
       "<table border=\"1\" class=\"dataframe\">\n",
       "  <thead>\n",
       "    <tr style=\"text-align: right;\">\n",
       "      <th></th>\n",
       "      <th>age</th>\n",
       "      <th>job</th>\n",
       "      <th>marital_status</th>\n",
       "      <th>education</th>\n",
       "      <th>Previous_Default_Flag</th>\n",
       "      <th>House_Owned_Flag</th>\n",
       "      <th>Loan_Availed_Flag</th>\n",
       "      <th>Income_USD</th>\n",
       "      <th>Credit_rating</th>\n",
       "      <th>Life_Stage_Code</th>\n",
       "      <th>...</th>\n",
       "      <th>Revenue</th>\n",
       "      <th>Cost</th>\n",
       "      <th>Net_Profit</th>\n",
       "      <th>Net_Margin</th>\n",
       "      <th>month_last_contacted</th>\n",
       "      <th>Qtrly_Emp_variation_rate</th>\n",
       "      <th>Monthly_consumer_price_idx</th>\n",
       "      <th>Monthly_consumer_conf_idx</th>\n",
       "      <th>US_FED_3mnth_rate</th>\n",
       "      <th>Quarterly_num_of_emp</th>\n",
       "    </tr>\n",
       "  </thead>\n",
       "  <tbody>\n",
       "    <tr>\n",
       "      <th>0</th>\n",
       "      <td>85</td>\n",
       "      <td>retired</td>\n",
       "      <td>married</td>\n",
       "      <td>basic.4y</td>\n",
       "      <td>2</td>\n",
       "      <td>2</td>\n",
       "      <td>2</td>\n",
       "      <td>10307</td>\n",
       "      <td>Poor</td>\n",
       "      <td>Tradinationalist</td>\n",
       "      <td>...</td>\n",
       "      <td>1563.66</td>\n",
       "      <td>1376.0208</td>\n",
       "      <td>187.6392</td>\n",
       "      <td>0.12</td>\n",
       "      <td>may</td>\n",
       "      <td>1.1</td>\n",
       "      <td>93.994</td>\n",
       "      <td>-36.4</td>\n",
       "      <td>4.864</td>\n",
       "      <td>5191.0</td>\n",
       "    </tr>\n",
       "    <tr>\n",
       "      <th>1</th>\n",
       "      <td>50</td>\n",
       "      <td>blue-collar</td>\n",
       "      <td>married</td>\n",
       "      <td>basic.9y</td>\n",
       "      <td>2</td>\n",
       "      <td>2</td>\n",
       "      <td>2</td>\n",
       "      <td>33232</td>\n",
       "      <td>Fair</td>\n",
       "      <td>Baby Boomers</td>\n",
       "      <td>...</td>\n",
       "      <td>820.49</td>\n",
       "      <td>713.8263</td>\n",
       "      <td>106.6637</td>\n",
       "      <td>0.13</td>\n",
       "      <td>may</td>\n",
       "      <td>1.1</td>\n",
       "      <td>93.994</td>\n",
       "      <td>-36.4</td>\n",
       "      <td>4.864</td>\n",
       "      <td>5191.0</td>\n",
       "    </tr>\n",
       "    <tr>\n",
       "      <th>2</th>\n",
       "      <td>47</td>\n",
       "      <td>blue-collar</td>\n",
       "      <td>single</td>\n",
       "      <td>basic.4y</td>\n",
       "      <td>0</td>\n",
       "      <td>2</td>\n",
       "      <td>2</td>\n",
       "      <td>12167</td>\n",
       "      <td>Fair</td>\n",
       "      <td>Baby Boomers</td>\n",
       "      <td>...</td>\n",
       "      <td>372.33</td>\n",
       "      <td>331.3737</td>\n",
       "      <td>40.9563</td>\n",
       "      <td>0.11</td>\n",
       "      <td>may</td>\n",
       "      <td>1.1</td>\n",
       "      <td>93.994</td>\n",
       "      <td>-36.4</td>\n",
       "      <td>4.864</td>\n",
       "      <td>5191.0</td>\n",
       "    </tr>\n",
       "    <tr>\n",
       "      <th>3</th>\n",
       "      <td>26</td>\n",
       "      <td>technician</td>\n",
       "      <td>divorced</td>\n",
       "      <td>professional.course</td>\n",
       "      <td>2</td>\n",
       "      <td>2</td>\n",
       "      <td>1</td>\n",
       "      <td>26459</td>\n",
       "      <td>Good</td>\n",
       "      <td>Gen Y</td>\n",
       "      <td>...</td>\n",
       "      <td>312.84</td>\n",
       "      <td>275.2992</td>\n",
       "      <td>37.5408</td>\n",
       "      <td>0.12</td>\n",
       "      <td>may</td>\n",
       "      <td>1.1</td>\n",
       "      <td>93.994</td>\n",
       "      <td>-36.4</td>\n",
       "      <td>4.864</td>\n",
       "      <td>5191.0</td>\n",
       "    </tr>\n",
       "    <tr>\n",
       "      <th>4</th>\n",
       "      <td>52</td>\n",
       "      <td>retired</td>\n",
       "      <td>married</td>\n",
       "      <td>university.degree</td>\n",
       "      <td>0</td>\n",
       "      <td>2</td>\n",
       "      <td>2</td>\n",
       "      <td>22328</td>\n",
       "      <td>Good</td>\n",
       "      <td>Baby Boomers</td>\n",
       "      <td>...</td>\n",
       "      <td>595.63</td>\n",
       "      <td>518.1981</td>\n",
       "      <td>77.4319</td>\n",
       "      <td>0.13</td>\n",
       "      <td>may</td>\n",
       "      <td>1.1</td>\n",
       "      <td>93.994</td>\n",
       "      <td>-36.4</td>\n",
       "      <td>4.864</td>\n",
       "      <td>5191.0</td>\n",
       "    </tr>\n",
       "  </tbody>\n",
       "</table>\n",
       "<p>5 rows × 41 columns</p>\n",
       "</div>"
      ],
      "text/plain": [
       "   age          job marital_status            education  \\\n",
       "0   85      retired        married             basic.4y   \n",
       "1   50  blue-collar        married             basic.9y   \n",
       "2   47  blue-collar         single             basic.4y   \n",
       "3   26   technician       divorced  professional.course   \n",
       "4   52      retired        married    university.degree   \n",
       "\n",
       "   Previous_Default_Flag  House_Owned_Flag  Loan_Availed_Flag  Income_USD  \\\n",
       "0                      2                 2                  2       10307   \n",
       "1                      2                 2                  2       33232   \n",
       "2                      0                 2                  2       12167   \n",
       "3                      2                 2                  1       26459   \n",
       "4                      0                 2                  2       22328   \n",
       "\n",
       "  Credit_rating   Life_Stage_Code          ...           Revenue       Cost  \\\n",
       "0          Poor  Tradinationalist          ...           1563.66  1376.0208   \n",
       "1          Fair      Baby Boomers          ...            820.49   713.8263   \n",
       "2          Fair      Baby Boomers          ...            372.33   331.3737   \n",
       "3          Good             Gen Y          ...            312.84   275.2992   \n",
       "4          Good      Baby Boomers          ...            595.63   518.1981   \n",
       "\n",
       "   Net_Profit  Net_Margin  month_last_contacted  Qtrly_Emp_variation_rate  \\\n",
       "0    187.6392        0.12                   may                       1.1   \n",
       "1    106.6637        0.13                   may                       1.1   \n",
       "2     40.9563        0.11                   may                       1.1   \n",
       "3     37.5408        0.12                   may                       1.1   \n",
       "4     77.4319        0.13                   may                       1.1   \n",
       "\n",
       "   Monthly_consumer_price_idx Monthly_consumer_conf_idx US_FED_3mnth_rate  \\\n",
       "0                      93.994                     -36.4             4.864   \n",
       "1                      93.994                     -36.4             4.864   \n",
       "2                      93.994                     -36.4             4.864   \n",
       "3                      93.994                     -36.4             4.864   \n",
       "4                      93.994                     -36.4             4.864   \n",
       "\n",
       "   Quarterly_num_of_emp  \n",
       "0                5191.0  \n",
       "1                5191.0  \n",
       "2                5191.0  \n",
       "3                5191.0  \n",
       "4                5191.0  \n",
       "\n",
       "[5 rows x 41 columns]"
      ]
     },
     "execution_count": 136,
     "metadata": {},
     "output_type": "execute_result"
    }
   ],
   "source": [
    "master.head()"
   ]
  },
  {
   "cell_type": "code",
   "execution_count": 137,
   "metadata": {},
   "outputs": [
    {
     "data": {
      "text/plain": [
       "married     3171\n",
       "single      1401\n",
       "divorced     564\n",
       "unknown       12\n",
       "Name: marital_status, dtype: int64"
      ]
     },
     "execution_count": 137,
     "metadata": {},
     "output_type": "execute_result"
    }
   ],
   "source": [
    "master['marital_status'].value_counts()\n"
   ]
  },
  {
   "cell_type": "code",
   "execution_count": 138,
   "metadata": {},
   "outputs": [],
   "source": [
    "mapping_dict = ({\n",
    "    \n",
    "    'married':1,\n",
    "    'single':2,\n",
    "    'divorced':3,\n",
    "    'unknown':0\n",
    "    \n",
    "})\n",
    "\n",
    "master['marital_status'] = master['marital_status'].map(mapping_dict)"
   ]
  },
  {
   "cell_type": "code",
   "execution_count": 139,
   "metadata": {},
   "outputs": [
    {
     "data": {
      "text/plain": [
       "0.0     4958\n",
       "3.0       55\n",
       "6.0       49\n",
       "4.0       22\n",
       "9.0       11\n",
       "7.0        9\n",
       "10.0       8\n",
       "2.0        7\n",
       "13.0       5\n",
       "12.0       5\n",
       "16.0       3\n",
       "11.0       3\n",
       "5.0        3\n",
       "15.0       2\n",
       "1.0        2\n",
       "8.0        1\n",
       "22.0       1\n",
       "26.0       1\n",
       "17.0       1\n",
       "Name: days_elapsed_last_contact, dtype: int64"
      ]
     },
     "execution_count": 139,
     "metadata": {},
     "output_type": "execute_result"
    }
   ],
   "source": [
    "master['days_elapsed_last_contact'] =  master['days_elapsed_last_contact'].replace(999,0)\n",
    "\n",
    "master['days_elapsed_last_contact'].value_counts()"
   ]
  },
  {
   "cell_type": "code",
   "execution_count": 140,
   "metadata": {
    "scrolled": true
   },
   "outputs": [
    {
     "data": {
      "text/plain": [
       "university.degree      1534\n",
       "high.school            1328\n",
       "basic.9y                764\n",
       "professional.course     643\n",
       "basic.4y                571\n",
       "basic.6y                305\n",
       "illiterate                3\n",
       "Name: education, dtype: int64"
      ]
     },
     "execution_count": 140,
     "metadata": {},
     "output_type": "execute_result"
    }
   ],
   "source": [
    "master['education'].value_counts()"
   ]
  },
  {
   "cell_type": "code",
   "execution_count": 141,
   "metadata": {},
   "outputs": [],
   "source": [
    "mapping_dict = ({\n",
    "                    \"university.degree\":1,\n",
    "                    \"high.school\":2,\n",
    "                    \"basic.9y\":3,\n",
    "                    \"professional.course\":4,\n",
    "                    \"basic.4y\":5,\n",
    "                    \"basic.6y\":6,\n",
    "                    \"illiterate\":7\n",
    "                    \n",
    "                    \n",
    "    \n",
    "                })\n",
    "\n",
    "master['education'] = master['education'].map(mapping_dict)"
   ]
  },
  {
   "cell_type": "code",
   "execution_count": 142,
   "metadata": {},
   "outputs": [
    {
     "data": {
      "text/plain": [
       "Fair         1625\n",
       "Poor         1223\n",
       "Good         1048\n",
       "Excellent    1016\n",
       "High Risk     236\n",
       "Name: Credit_rating, dtype: int64"
      ]
     },
     "execution_count": 142,
     "metadata": {},
     "output_type": "execute_result"
    }
   ],
   "source": [
    "master['Credit_rating'].value_counts()"
   ]
  },
  {
   "cell_type": "code",
   "execution_count": 143,
   "metadata": {},
   "outputs": [
    {
     "data": {
      "text/plain": [
       "3    1625\n",
       "2    1223\n",
       "4    1048\n",
       "5    1016\n",
       "1     236\n",
       "Name: Credit_rating, dtype: int64"
      ]
     },
     "execution_count": 143,
     "metadata": {},
     "output_type": "execute_result"
    }
   ],
   "source": [
    "mapping_dict = {'High Risk':1,'Poor':2,'Fair':3,'Good':4,'Excellent':5}\n",
    "\n",
    "master['Credit_rating'] = master['Credit_rating'].map(mapping_dict)\n",
    "\n",
    "master['Credit_rating'].value_counts()"
   ]
  },
  {
   "cell_type": "code",
   "execution_count": 144,
   "metadata": {},
   "outputs": [],
   "source": [
    "master = master.fillna(0)"
   ]
  },
  {
   "cell_type": "code",
   "execution_count": 145,
   "metadata": {},
   "outputs": [],
   "source": [
    "X = (master[['age',\n",
    "             'Income_USD',\n",
    "             'marital_status',\n",
    "             'Count_of_Transactions',\n",
    "             'Avg_Basket_Size', \n",
    "             'duration_last_contact',\n",
    "             'num_of_contact_campaign',\n",
    "             'days_elapsed_last_contact',\n",
    "             'num_contact_before_campaigning',\n",
    "             'Target_buy',\n",
    "             'Revenue',\n",
    "             'Cost',\n",
    "             'Net_Profit',\n",
    "             'Net_Margin',\n",
    "             'Qtrly_Emp_variation_rate',\n",
    "             'Credit_rating','education', \n",
    "             ' Monthly_consumer_price_idx', \n",
    "             'US_FED_3mnth_rate',\n",
    "             'Quarterly_num_of_emp',\n",
    "            'Loan_Availed_Flag',\n",
    "            'House_Owned_Flag',\n",
    "            'Previous_Default_Flag',\n",
    "            'Loyalty_Tier']])"
   ]
  },
  {
   "cell_type": "code",
   "execution_count": 146,
   "metadata": {},
   "outputs": [],
   "source": [
    "y = master['buy_decision_flag']"
   ]
  },
  {
   "cell_type": "code",
   "execution_count": 147,
   "metadata": {},
   "outputs": [],
   "source": [
    "from sklearn import preprocessing\n",
    "\n",
    "X = preprocessing.StandardScaler().fit(X).transform(X.astype(float))\n"
   ]
  },
  {
   "cell_type": "code",
   "execution_count": 148,
   "metadata": {},
   "outputs": [
    {
     "name": "stdout",
     "output_type": "stream",
     "text": [
      "Train set: (4118, 24) (4118,)\n",
      "Test set: (1030, 24) (1030,)\n"
     ]
    }
   ],
   "source": [
    "from sklearn.model_selection import train_test_split\n",
    "X_train, X_test, y_train, y_test = train_test_split( X, y, test_size=0.2, random_state=4)\n",
    "print ('Train set:', X_train.shape,  y_train.shape)\n",
    "print ('Test set:', X_test.shape,  y_test.shape)"
   ]
  },
  {
   "cell_type": "code",
   "execution_count": 155,
   "metadata": {},
   "outputs": [
    {
     "data": {
      "text/plain": [
       "KNeighborsClassifier(algorithm='auto', leaf_size=30, metric='minkowski',\n",
       "           metric_params=None, n_jobs=1, n_neighbors=5, p=2,\n",
       "           weights='uniform')"
      ]
     },
     "execution_count": 155,
     "metadata": {},
     "output_type": "execute_result"
    }
   ],
   "source": [
    "from sklearn.neighbors import KNeighborsClassifier\n",
    "\n",
    "k = 5\n",
    "#Train Model and Predict  \n",
    "neigh = KNeighborsClassifier(n_neighbors = k).fit(X_train,y_train)\n",
    "neigh"
   ]
  },
  {
   "cell_type": "code",
   "execution_count": 156,
   "metadata": {},
   "outputs": [
    {
     "data": {
      "text/plain": [
       "array([2, 2, 2, 2, 2], dtype=int64)"
      ]
     },
     "execution_count": 156,
     "metadata": {},
     "output_type": "execute_result"
    }
   ],
   "source": [
    "yhat = neigh.predict(X_test)\n",
    "yhat[0:5]"
   ]
  },
  {
   "cell_type": "code",
   "execution_count": 157,
   "metadata": {},
   "outputs": [
    {
     "name": "stdout",
     "output_type": "stream",
     "text": [
      "Train set Accuracy:  0.9985429820301117\n",
      "Test set Accuracy:  0.9980582524271845\n"
     ]
    }
   ],
   "source": [
    "from sklearn import metrics\n",
    "print(\"Train set Accuracy: \",metrics.accuracy_score(y_train, neigh.predict(X_train)))\n",
    "print(\"Test set Accuracy: \" ,metrics.accuracy_score(y_test, yhat))"
   ]
  },
  {
   "cell_type": "code",
   "execution_count": 152,
   "metadata": {},
   "outputs": [
    {
     "data": {
      "text/plain": [
       "array([0.9961165 , 0.99708738, 0.9961165 , 0.99708738, 0.99805825,\n",
       "       0.99708738, 0.99805825, 0.99805825, 0.99805825])"
      ]
     },
     "execution_count": 152,
     "metadata": {},
     "output_type": "execute_result"
    }
   ],
   "source": [
    "Ks = 10\n",
    "mean_acc = np.zeros((Ks-1))\n",
    "std_acc = np.zeros((Ks-1))\n",
    "ConfustionMx = [];\n",
    "for n in range(1,Ks):\n",
    "    \n",
    "    #Train Model and Predict  \n",
    "    neigh = KNeighborsClassifier(n_neighbors = n).fit(X_train,y_train)\n",
    "    yhat=neigh.predict(X_test)\n",
    "    mean_acc[n-1] = metrics.accuracy_score(y_test, yhat)\n",
    "\n",
    "    \n",
    "    std_acc[n-1]=np.std(yhat==y_test)/np.sqrt(yhat.shape[0])\n",
    "\n",
    "mean_acc"
   ]
  },
  {
   "cell_type": "code",
   "execution_count": 154,
   "metadata": {},
   "outputs": [
    {
     "data": {
      "image/png": "[encoded data removed]",
      "text/plain": [
       "<Figure size 432x288 with 1 Axes>"
      ]
     },
     "metadata": {},
     "output_type": "display_data"
    }
   ],
   "source": [
    "plt.plot(range(1,Ks),mean_acc,'g')\n",
    "plt.fill_between(range(1,Ks),mean_acc - 1 * std_acc,mean_acc + 1 * std_acc, alpha=0.10)\n",
    "plt.legend(('Accuracy ', '+/- 3xstd'))\n",
    "plt.ylabel('Accuracy ')\n",
    "plt.xlabel('Number of Neighbors (K)')\n",
    "plt.tight_layout()\n",
    "plt.show()"
   ]
  },
  {
   "cell_type": "code",
   "execution_count": null,
   "metadata": {},
   "outputs": [],
   "source": []
  },
  {
   "cell_type": "code",
   "execution_count": null,
   "metadata": {},
   "outputs": [],
   "source": []
  }
 ],
 "metadata": {
  "kernelspec": {
   "display_name": "Python 3",
   "language": "python",
   "name": "python3"
  },
  "language_info": {
   "codemirror_mode": {
    "name": "ipython",
    "version": 3
   },
   "file_extension": ".py",
   "mimetype": "text/x-python",
   "name": "python",
   "nbconvert_exporter": "python",
   "pygments_lexer": "ipython3",
   "version": "3.6.6"
  }
 },
 "nbformat": 4,
 "nbformat_minor": 2
}
